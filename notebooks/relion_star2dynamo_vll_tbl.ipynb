{
  "cells": [
    {
      "cell_type": "markdown",
      "metadata": {},
      "source": [
        "# RELION to Dynamo Conversion\n",
        "\n",
        "This notebook demonstrates how to convert RELION particle.star files to Dynamo .tbl and .vll formats using TomoPANDA.\n",
        "\n",
        "## Input Variables\n",
        "\n",
        "Modify these variables according to your data:\n"
      ]
    },
    {
      "cell_type": "code",
      "execution_count": 1,
      "metadata": {},
      "outputs": [
        {
          "name": "stdout",
          "output_type": "stream",
          "text": [
            "Input STAR file: /home/muwang/Downloads/voxel_sample/particles.star\n",
            "Output directory: /home/muwang/Downloads/voxel_sample/\n",
            "Base name: particles\n",
            "Start tag: 1\n",
            "Model index: 1\n"
          ]
        }
      ],
      "source": [
        "# ===== INPUT VARIABLES - MODIFY THESE =====\n",
        "\n",
        "# Path to your RELION particle.star file\n",
        "star_file ='/home/muwang/Downloads/voxel_sample/particles.star'\n",
        "# Output directory for Dynamo files\n",
        "output_dir = \"/home/muwang/Downloads/voxel_sample/\"\n",
        "\n",
        "# Base name for output files (will create .tbl and .vll files)\n",
        "base_name = \"particles\"\n",
        "\n",
        "# Starting tag number for particles (usually 1)\n",
        "start_tag = 1\n",
        "\n",
        "# Model index for Dynamo (usually 1)\n",
        "model_index = 1\n",
        "\n",
        "print(f\"Input STAR file: {star_file}\")\n",
        "print(f\"Output directory: {output_dir}\")\n",
        "print(f\"Base name: {base_name}\")\n",
        "print(f\"Start tag: {start_tag}\")\n",
        "print(f\"Model index: {model_index}\")\n"
      ]
    },
    {
      "cell_type": "markdown",
      "metadata": {},
      "source": [
        "## Import Required Libraries\n"
      ]
    },
    {
      "cell_type": "code",
      "execution_count": 2,
      "metadata": {},
      "outputs": [
        {
          "name": "stdout",
          "output_type": "stream",
          "text": [
            "Jupyter environment detected. Enabling Open3D WebVisualizer.\n",
            "[Open3D INFO] WebRTC GUI backend enabled.\n",
            "[Open3D INFO] WebRTCWindowSystem: HTTP handshake server disabled.\n",
            "TomoPANDA version: 0.1.1\n",
            "Libraries imported successfully!\n"
          ]
        }
      ],
      "source": [
        "import sys\n",
        "from pathlib import Path\n",
        "import tomopanda\n",
        "\n",
        "print(f\"TomoPANDA version: {tomopanda.__version__}\")\n",
        "print(\"Libraries imported successfully!\")\n"
      ]
    },
    {
      "cell_type": "markdown",
      "metadata": {},
      "source": [
        "## Convert RELION STAR to Dynamo Format\n"
      ]
    },
    {
      "cell_type": "code",
      "execution_count": 3,
      "metadata": {},
      "outputs": [
        {
          "name": "stdout",
          "output_type": "stream",
          "text": [
            "Input file found: /home/muwang/Downloads/voxel_sample/particles.star\n",
            "Output directory created: /home/muwang/Downloads/voxel_sample/\n"
          ]
        }
      ],
      "source": [
        "# Check if input file exists\n",
        "if not Path(star_file).exists():\n",
        "    print(f\"ERROR: Input file '{star_file}' not found!\")\n",
        "    print(\"Please check the file path and try again.\")\n",
        "else:\n",
        "    print(f\"Input file found: {star_file}\")\n",
        "    \n",
        "    # Create output directory if it doesn't exist\n",
        "    Path(output_dir).mkdir(parents=True, exist_ok=True)\n",
        "    print(f\"Output directory created: {output_dir}\")\n"
      ]
    },
    {
      "cell_type": "code",
      "execution_count": 4,
      "metadata": {},
      "outputs": [
        {
          "name": "stdout",
          "output_type": "stream",
          "text": [
            "Converting RELION STAR to Dynamo format...\n"
          ]
        },
        {
          "name": "stderr",
          "output_type": "stream",
          "text": [
            "/home/muwang/Documents/GitHub/TomoPANDA/tomopanda/utils/relion_utils.py:449: FutureWarning: errors='ignore' is deprecated and will raise in a future version. Use to_numeric without passing `errors` and catch exceptions explicitly instead\n",
            "  df[c] = pd.to_numeric(df[c], errors='ignore')\n"
          ]
        },
        {
          "name": "stdout",
          "output_type": "stream",
          "text": [
            "Saved 1612011 particles to Dynamo .tbl file: /home/muwang/Downloads/voxel_sample/particles.tbl\n",
            "Saved 228 tomograms to Dynamo .vll file: /home/muwang/Downloads/voxel_sample/particles.vll\n",
            "\n",
            "Conversion completed successfully!\n",
            "Generated .tbl file: /home/muwang/Downloads/voxel_sample/particles.tbl\n",
            "Generated .vll file: /home/muwang/Downloads/voxel_sample/particles.vll\n"
          ]
        }
      ],
      "source": [
        "# Convert RELION STAR to Dynamo format\n",
        "try:\n",
        "    print(\"Converting RELION STAR to Dynamo format...\")\n",
        "    \n",
        "    # Use the convenient conversion function\n",
        "    tbl_path, vll_path = tomopanda.convert_relion_to_dynamo(\n",
        "        star_file=star_file,\n",
        "        output_dir=output_dir,\n",
        "        base_name=base_name,\n",
        "        start_tag=start_tag,\n",
        "        model_index=model_index\n",
        "    )\n",
        "    \n",
        "    print(\"\\nConversion completed successfully!\")\n",
        "    print(f\"Generated .tbl file: {tbl_path}\")\n",
        "    print(f\"Generated .vll file: {vll_path}\")\n",
        "    \n",
        "except Exception as e:\n",
        "    print(f\"ERROR: Conversion failed - {e}\")\n",
        "    print(\"Please check your input file and try again.\")\n"
      ]
    },
    {
      "cell_type": "markdown",
      "metadata": {},
      "source": [
        "## Verify Output Files\n"
      ]
    },
    {
      "cell_type": "code",
      "execution_count": 5,
      "metadata": {},
      "outputs": [
        {
          "name": "stdout",
          "output_type": "stream",
          "text": [
            "✓ Output files created successfully!\n",
            "  .tbl file: 1612011 particles\n",
            "  .vll file: 228 tomograms\n",
            "\n",
            "Files are ready for use in Dynamo!\n"
          ]
        }
      ],
      "source": [
        "# Check if output files were created\n",
        "tbl_file = Path(output_dir) / f\"{base_name}.tbl\"\n",
        "vll_file = Path(output_dir) / f\"{base_name}.vll\"\n",
        "\n",
        "if tbl_file.exists() and vll_file.exists():\n",
        "    print(\"✓ Output files created successfully!\")\n",
        "    \n",
        "    # Count lines in .tbl file\n",
        "    with open(tbl_file, 'r') as f:\n",
        "        tbl_lines = len(f.readlines())\n",
        "    print(f\"  .tbl file: {tbl_lines} particles\")\n",
        "    \n",
        "    # Count lines in .vll file\n",
        "    with open(vll_file, 'r') as f:\n",
        "        vll_lines = len(f.readlines())\n",
        "    print(f\"  .vll file: {vll_lines} tomograms\")\n",
        "    \n",
        "    print(\"\\nFiles are ready for use in Dynamo!\")\n",
        "else:\n",
        "    print(\"✗ Output files not found. Please check the conversion process.\")\n"
      ]
    },
    {
      "cell_type": "markdown",
      "metadata": {},
      "source": []
    }
  ],
  "metadata": {
    "kernelspec": {
      "display_name": "Python 3",
      "language": "python",
      "name": "python3"
    },
    "language_info": {
      "codemirror_mode": {
        "name": "ipython",
        "version": 3
      },
      "file_extension": ".py",
      "mimetype": "text/x-python",
      "name": "python",
      "nbconvert_exporter": "python",
      "pygments_lexer": "ipython3",
      "version": "3.10.18"
    }
  },
  "nbformat": 4,
  "nbformat_minor": 2
}
